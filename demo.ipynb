{
 "cells": [
  {
   "cell_type": "code",
   "execution_count": null,
   "metadata": {},
   "outputs": [],
   "source": [
    "import os\n",
    "import argparse\n",
    "from tqdm import tqdm\n",
    "import numpy as np\n",
    "import skimage.io as io\n",
    "from copy import copy\n",
    "import matplotlib.pyplot as plt\n",
    "import tensorflow as tf\n",
    "from keras.backend.tensorflow_backend import set_session\n",
    "\n",
    "from autolab_core import YamlConfig\n",
    "\n",
    "from sd_maskrcnn import utils\n",
    "from sd_maskrcnn.config import MaskConfig\n",
    "from sd_maskrcnn.dataset import ImageDataset\n",
    "from sd_maskrcnn.coco_benchmark import coco_benchmark\n",
    "from sd_maskrcnn.supplement_benchmark import s_benchmark\n",
    "\n",
    "from mrcnn import model as modellib, utils as utilslib, visualize\n",
    "from mrcnn.config import Config"
   ]
  },
  {
   "cell_type": "code",
   "execution_count": null,
   "metadata": {},
   "outputs": [],
   "source": [
    "class InferenceConfig(Config):\n",
    "    NAME = \"my_sdmaskrcnn\"\n",
    "    NUM_CLASSES = 1 + 1 # background + object\n",
    "    USE_MINI_MASK = False\n",
    "    BACKBONE = \"resnet35\"\n",
    "    IMAGE_MIN_DIM = 512\n",
    "    IMAGE_MAX_DIM = 512\n",
    "    RPN_NMS_THRESHOLD = 1.0\n",
    "    DETECTION_NMS_THRESHOLD = 0.35\n",
    "    POST_NMS_ROIS_INFERENCE = 2000\n",
    "    MEAN_PIXEL = [128, 128, 128]\n",
    "    GPU_COUNT = 1\n",
    "    IMAGES_PER_GPU = 1\n",
    "    \n",
    "config = InferenceConfig()\n",
    "config.display()"
   ]
  },
  {
   "cell_type": "code",
   "execution_count": null,
   "metadata": {},
   "outputs": [],
   "source": [
    "model = modellib.MaskRCNN(mode=\"inference\", model_dir=\"./models\", config=config)"
   ]
  },
  {
   "cell_type": "code",
   "execution_count": null,
   "metadata": {},
   "outputs": [],
   "source": [
    "model.load_weights(\"models/sd_maskrcnn_20200129.h5\", by_name=True)"
   ]
  },
  {
   "cell_type": "code",
   "execution_count": null,
   "metadata": {},
   "outputs": [],
   "source": [
    "class_names = ['BG', 'obj']"
   ]
  },
  {
   "cell_type": "code",
   "execution_count": null,
   "metadata": {
    "scrolled": false
   },
   "outputs": [],
   "source": [
    "import os\n",
    "import cv2\n",
    "\n",
    "TEST_DIR = os.path.abspath(\"./test\")\n",
    "for file in os.listdir(TEST_DIR):\n",
    "    depth = cv2.imread(TEST_DIR + \"/\" + file , cv2.IMREAD_GRAYSCALE)\n",
    "    depth = np.repeat(depth[:, :, np.newaxis], 3, axis=2)\n",
    "    \n",
    "    results = model.detect([depth], verbose=1)\n",
    "    \n",
    "    r = results[0]\n",
    "    visualize.display_instances(depth, r['rois'], r['masks'], r['class_ids'], class_names, r['scores'])"
   ]
  },
  {
   "cell_type": "code",
   "execution_count": null,
   "metadata": {
    "scrolled": false
   },
   "outputs": [],
   "source": [
    "import os\n",
    "import cv2\n",
    "\n",
    "ROOT_DIR = os.path.abspath(\"./\")\n",
    "IMAGE_DIR = os.path.join(ROOT_DIR, \"datasets/wisdom/wisdom-real/high-res/color_ims/\")\n",
    "DEPTH_DIR = os.path.join(ROOT_DIR, \"datasets/wisdom/wisdom-real/high-res/depth_ims/\")\n",
    "image_files = os.listdir(IMAGE_DIR)\n",
    "depth_files = os.listdir(DEPTH_DIR)\n",
    "\n",
    "image_files.sort()\n",
    "depth_files.sort()\n",
    "\n",
    "for i in range(5):\n",
    "    image = cv2.imread(IMAGE_DIR + image_files[i])\n",
    "    depth = cv2.imread(DEPTH_DIR + depth_files[i])\n",
    "    \n",
    "    plt.imshow(cv2.cvtColor(image, cv2.COLOR_BGR2RGB))\n",
    "    plt.show()\n",
    "    plt.imshow(depth)\n",
    "    plt.show()\n",
    "    results = model.detect([depth], verbose=1)\n",
    "    r = results[0]\n",
    "    visualize.display_instances(depth, r['rois'], r['masks'], r['class_ids'], class_names, r['scores'])"
   ]
  },
  {
   "cell_type": "code",
   "execution_count": null,
   "metadata": {},
   "outputs": [],
   "source": []
  }
 ],
 "metadata": {
  "kernelspec": {
   "display_name": "Python 3",
   "language": "python",
   "name": "python3"
  },
  "language_info": {
   "codemirror_mode": {
    "name": "ipython",
    "version": 3
   },
   "file_extension": ".py",
   "mimetype": "text/x-python",
   "name": "python",
   "nbconvert_exporter": "python",
   "pygments_lexer": "ipython3",
   "version": "3.7.5"
  }
 },
 "nbformat": 4,
 "nbformat_minor": 2
}
